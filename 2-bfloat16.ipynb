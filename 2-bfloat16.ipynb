{
 "cells": [
  {
   "cell_type": "markdown",
   "metadata": {},
   "source": [
    "# TensorFlow で bfloat16 へ変換"
   ]
  },
  {
   "cell_type": "code",
   "execution_count": 1,
   "metadata": {},
   "outputs": [
    {
     "name": "stdout",
     "output_type": "stream",
     "text": [
      "<class 'numpy.ndarray'> <class 'numpy.float64'>\n",
      "<class 'tensorflow.python.framework.ops.Tensor'> <class 'tensorflow.python.framework.ops.Tensor'>\n",
      "<class 'bfloat16'>\n"
     ]
    }
   ],
   "source": [
    "import numpy as np\n",
    "import tensorflow as tf\n",
    "\n",
    "w_np = np.loadtxt('w_value.txt', delimiter=',')\n",
    "b_np = np.loadtxt('b_value.txt', delimiter=',')\n",
    "\n",
    "print(type(w_np), type(w_np[0][0]))\n",
    "\n",
    "w_b = tf.cast(w_np, tf.bfloat16)\n",
    "b_b = tf.cast(b_np, tf.bfloat16)\n",
    "\n",
    "print(type(w_b), type(w_b[0][0]))\n",
    "\n",
    "with tf.Session() as sess:\n",
    "    w_b_np = w_b.eval()\n",
    "    b_b_np = b_b.eval()\n",
    "\n",
    "print(type(w_b_np[0][0]))\n",
    "#np.savetxt('w_b_value.txt', w_b_np, delimiter=',')\n",
    "#np.savetxt('b_b_value.txt', b_b_np, delimiter=',')"
   ]
  },
  {
   "cell_type": "markdown",
   "metadata": {},
   "source": [
    "## NumPy で バイナリ化"
   ]
  },
  {
   "cell_type": "code",
   "execution_count": 2,
   "metadata": {},
   "outputs": [],
   "source": [
    "np.save('w_b_value.npy', w_b_np)\n",
    "np.save('b_b_value.npy', b_b_np)"
   ]
  },
  {
   "cell_type": "markdown",
   "metadata": {},
   "source": [
    "出来た npy のファイルはヘッダーがついてます。 dd で削ってください。スキップするサイズは 128 バイトです。\n",
    "\n",
    " dd if=b_b_value.npy of=b_b_value.bin bs=128 skip=1\n",
    " dd if=w_b_value.npy of=w_b_value.bin bs=128 skip=1\n",
    " \n",
    " od コマンドで内容を確認します。\n",
    " \n",
    " od -tx2 b_b_value.bin\n",
    "0000000 bf95 3f9c 3e79 bf20 3dc4 401d bf00 3fb9\n",
    "0000020 c029 bf07\n",
    "0000024"
   ]
  },
  {
   "cell_type": "code",
   "execution_count": 3,
   "metadata": {},
   "outputs": [
    {
     "name": "stdout",
     "output_type": "stream",
     "text": [
      "WARNING:tensorflow:From <ipython-input-3-3b0aced47ab3>:2: read_data_sets (from tensorflow.contrib.learn.python.learn.datasets.mnist) is deprecated and will be removed in a future version.\n",
      "Instructions for updating:\n",
      "Please use alternatives such as official/mnist/dataset.py from tensorflow/models.\n",
      "WARNING:tensorflow:From /home/ryos/Polyphony/venv/tf/lib/python3.6/site-packages/tensorflow/contrib/learn/python/learn/datasets/mnist.py:260: maybe_download (from tensorflow.contrib.learn.python.learn.datasets.base) is deprecated and will be removed in a future version.\n",
      "Instructions for updating:\n",
      "Please write your own downloading logic.\n",
      "WARNING:tensorflow:From /home/ryos/Polyphony/venv/tf/lib/python3.6/site-packages/tensorflow/contrib/learn/python/learn/datasets/mnist.py:262: extract_images (from tensorflow.contrib.learn.python.learn.datasets.mnist) is deprecated and will be removed in a future version.\n",
      "Instructions for updating:\n",
      "Please use tf.data to implement this functionality.\n",
      "Extracting /tmp/data/train-images-idx3-ubyte.gz\n",
      "WARNING:tensorflow:From /home/ryos/Polyphony/venv/tf/lib/python3.6/site-packages/tensorflow/contrib/learn/python/learn/datasets/mnist.py:267: extract_labels (from tensorflow.contrib.learn.python.learn.datasets.mnist) is deprecated and will be removed in a future version.\n",
      "Instructions for updating:\n",
      "Please use tf.data to implement this functionality.\n",
      "Extracting /tmp/data/train-labels-idx1-ubyte.gz\n",
      "WARNING:tensorflow:From /home/ryos/Polyphony/venv/tf/lib/python3.6/site-packages/tensorflow/contrib/learn/python/learn/datasets/mnist.py:110: dense_to_one_hot (from tensorflow.contrib.learn.python.learn.datasets.mnist) is deprecated and will be removed in a future version.\n",
      "Instructions for updating:\n",
      "Please use tf.one_hot on tensors.\n",
      "Extracting /tmp/data/t10k-images-idx3-ubyte.gz\n",
      "Extracting /tmp/data/t10k-labels-idx1-ubyte.gz\n",
      "WARNING:tensorflow:From /home/ryos/Polyphony/venv/tf/lib/python3.6/site-packages/tensorflow/contrib/learn/python/learn/datasets/mnist.py:290: DataSet.__init__ (from tensorflow.contrib.learn.python.learn.datasets.mnist) is deprecated and will be removed in a future version.\n",
      "Instructions for updating:\n",
      "Please use alternatives such as official/mnist/dataset.py from tensorflow/models.\n",
      "(784,) (784, 10)\n",
      "(10,)\n",
      "[ -0.60189682 -16.68318781   0.09866579   8.12337536  -3.58309414\n",
      "   2.40077388 -14.17103061  16.73551077   1.37769098   6.27737028]\n"
     ]
    }
   ],
   "source": [
    "from tensorflow.examples.tutorials.mnist import input_data\n",
    "mnist = input_data.read_data_sets(\"/tmp/data/\", one_hot=True)\n",
    "\n",
    "from tensorflow.python import pywrap_tensorflow\n",
    "\n",
    "bfloat16 = pywrap_tensorflow.TF_bfloat16_type()\n",
    "import numpy as np\n",
    "from b_bin import B_PARAM\n",
    "from w_bin import W_PARAM\n",
    "from float2bfloat import float2bfloat\n",
    "from float2bfloat import bfloat2float\n",
    "\n",
    "b = np.array(list(map(lambda x: bfloat2float(x), B_PARAM)))\n",
    "w = np.array(list(map(lambda x: bfloat2float(x), W_PARAM)))\n",
    "\n",
    "w = w.reshape(784, 10)\n",
    "\n",
    "img=mnist.test.images[0]\n",
    "print(img.shape, w.shape)\n",
    "\n",
    "xw = img @ w\n",
    "print(xw.shape)\n",
    "rv = xw + b\n",
    "\n",
    "print(rv)"
   ]
  },
  {
   "cell_type": "code",
   "execution_count": null,
   "metadata": {},
   "outputs": [],
   "source": []
  }
 ],
 "metadata": {
  "kernelspec": {
   "display_name": "Python 3",
   "language": "python",
   "name": "python3"
  },
  "language_info": {
   "codemirror_mode": {
    "name": "ipython",
    "version": 3
   },
   "file_extension": ".py",
   "mimetype": "text/x-python",
   "name": "python",
   "nbconvert_exporter": "python",
   "pygments_lexer": "ipython3",
   "version": "3.6.7"
  }
 },
 "nbformat": 4,
 "nbformat_minor": 2
}
