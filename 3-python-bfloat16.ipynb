{
 "cells": [
  {
   "cell_type": "markdown",
   "metadata": {},
   "source": [
    "# Polyphony をインストール"
   ]
  },
  {
   "cell_type": "code",
   "execution_count": 1,
   "metadata": {},
   "outputs": [
    {
     "name": "stdout",
     "output_type": "stream",
     "text": [
      "Requirement already satisfied: polyphony in /home/ryos/Polyphony/venv/tf/lib/python3.6/site-packages\r\n"
     ]
    }
   ],
   "source": [
    "!pip3 install polyphony "
   ]
  },
  {
   "cell_type": "markdown",
   "metadata": {},
   "source": [
    "## Python の bfloat16 用の mul を定義"
   ]
  },
  {
   "cell_type": "code",
   "execution_count": 2,
   "metadata": {},
   "outputs": [],
   "source": [
    "from polyphony import testbench\n",
    "from polyphony.typing import List, bit16, bit9, bit8, bit\n",
    "def mul(x:bit16, w:bit16):\n",
    "    if x == 0:\n",
    "        return 0\n",
    "    if w == 0:\n",
    "        return 0\n",
    "    x_e = (x >> 7) & 0xFF\n",
    "    w_e = (w >> 7) & 0xFF\n",
    "    e:bit8 = (x_e - 127) + (w_e - 127) + 127\n",
    "    x_n = (x & 0x7F)\n",
    "    w_n = (w & 0x7F)\n",
    "    new_n:bit16 = ((x_n | 0x80) * (w_n | 0x80))\n",
    "    if new_n & 0x8000:\n",
    "        new_n >>= 8\n",
    "        e += 1\n",
    "    else:\n",
    "        new_n >>= 7\n",
    "    #print(x_n, w_n, new_n)\n",
    "    new_n &= 0x7F\n",
    "    s = (x & 0x8000) ^ (w & 0x8000)\n",
    "    #print('s', s, e, new_n)\n",
    "\n",
    "    x_w = s | (e << 7) | (new_n)\n",
    "    #print(f'result:{x_w:2x}, {w_n} {x_n} {new_n}')\n",
    "    return x_w"
   ]
  },
  {
   "cell_type": "markdown",
   "metadata": {},
   "source": [
    "## Python の bfloat16 用の add の為の関数(sub_add)とaddを定義"
   ]
  },
  {
   "cell_type": "code",
   "execution_count": 3,
   "metadata": {},
   "outputs": [],
   "source": [
    "def sub_add(x_sign:bit, x:bit8, b_sign:bit, b:bit8, e:bit8):\n",
    "    #print(f'sub_add {x_sign} {x:08b}, {b_sign} {b:08b}')\n",
    "    #print('sub_add', x_sign, x, b_sign, b, e)\n",
    "\n",
    "    if (x_sign == 0 and b_sign == 0) or (x_sign == 1 and b_sign == 1):\n",
    "        rv_n:bit9 = (x + b)\n",
    "        add_e = 1 if rv_n & 0x100 else 0\n",
    "        if add_e:\n",
    "            rv_n >>= 1\n",
    "\n",
    "        return (0x8000 if x_sign else 0x0000) | ((e + add_e) << 7) | (rv_n & 0x7F)\n",
    "    else:\n",
    "        if x < b:\n",
    "            x_sign, b_sign = b_sign, x_sign\n",
    "            x, b = b, x\n",
    "\n",
    "        #print('sub_add', x_sign, x, b_sign, b, e, x - b)\n",
    "        \n",
    "        rv_n = x - b\n",
    "        rv_sign = x_sign\n",
    "        for i in range(0, 7):\n",
    "            #print(i, rv_n)\n",
    "            if rv_n & 0x80:\n",
    "                return (0x8000 if rv_sign else 0x0000) | ((e - i) << 7) | (rv_n & 0x7F)\n",
    "            rv_n <<= 1\n",
    "\n",
    "        return 0"
   ]
  },
  {
   "cell_type": "code",
   "execution_count": 4,
   "metadata": {},
   "outputs": [],
   "source": [
    "def add(x:bit16, b:bit16):\n",
    "    if x == 0:\n",
    "        return b\n",
    "    if b == 0:\n",
    "        return x\n",
    "    x_sign = 1 if x & 0x8000 else 0\n",
    "    b_sign = 1 if b & 0x8000 else 0\n",
    "    x_e = (x >> 7) & 0xFF\n",
    "    b_e = (b >> 7) & 0xFF\n",
    "\n",
    "    if x_e < b_e:\n",
    "        x, b = b, x\n",
    "        x_e, b_e = b_e, x_e\n",
    "        x_sign, b_sign = b_sign, x_sign\n",
    "\n",
    "    x_n = (x & 0x7F)\n",
    "    b_n = (b & 0x7F)\n",
    "\n",
    "    d = x_e - b_e\n",
    "    e = x_e\n",
    "    if d > 8:\n",
    "        return x\n",
    "    \n",
    "    new_n:bit8 = 0\n",
    "    if d == 0:\n",
    "        rv = sub_add(x_sign, 0x80 | x_n, b_sign, 0x80 | b_n, e)\n",
    "    else:\n",
    "        new_b_n = ((0x80 | b_n) >> d) + ((b_n >> (d-1)) & 1)\n",
    "        #print('d:', d, 'b_n:', f'{b_n:8b} {new_b_n:8b}')\n",
    "        if new_b_n == 0:\n",
    "            return x\n",
    "\n",
    "        rv = sub_add(x_sign, (0x80 | x_n), b_sign, new_b_n, e)\n",
    "\n",
    "    return rv"
   ]
  },
  {
   "cell_type": "markdown",
   "metadata": {},
   "source": [
    "## テスト(ベンチ) プログラムの定義"
   ]
  },
  {
   "cell_type": "code",
   "execution_count": 5,
   "metadata": {},
   "outputs": [],
   "source": [
    "@testbench\n",
    "def test():\n",
    "    x = 16209\n",
    "    w = 48824\n",
    "    b = 16036\n",
    "    rv = mul(x, w)\n",
    "    rv2 = add(rv, b)\n",
    "    print(rv2, rv, '<=', x, '*',w, '+', b)\n",
    "    assert(rv2 == 15584)\n",
    "    assert(rv == 48790)\n",
    "\n",
    "    a = 48790\n",
    "    c = 16036\n",
    "    rv3 = add(a, c)\n",
    "    print(rv3, '<=', a, '+',c)\n",
    "    assert(rv3 == 15584)\n",
    "    \n",
    "    x = 16457\n",
    "    w = 16042\n",
    "    rv = mul(x, w)\n",
    "    print(rv)\n",
    "    assert(rv == 16261)\n",
    "    rv = add(x, w)\n",
    "    print(rv)\n",
    "    assert(rv == 16478)"
   ]
  },
  {
   "cell_type": "markdown",
   "metadata": {},
   "source": [
    "## テスト(ベンチ) プログラムの実行"
   ]
  },
  {
   "cell_type": "code",
   "execution_count": 6,
   "metadata": {},
   "outputs": [
    {
     "name": "stdout",
     "output_type": "stream",
     "text": [
      "15584 48790 <= 16209 * 48824 + 16036\n",
      "15584 <= 48790 + 16036\n",
      "16261\n",
      "16478\n"
     ]
    }
   ],
   "source": [
    "test()"
   ]
  },
  {
   "cell_type": "markdown",
   "metadata": {},
   "source": [
    "上の10進表示ではいくら何でもわかりづらいですね。浮動小数点数で表示してみます。"
   ]
  },
  {
   "cell_type": "code",
   "execution_count": 7,
   "metadata": {},
   "outputs": [
    {
     "name": "stdout",
     "output_type": "stream",
     "text": [
      "0.02734375 -0.29296875 <= 0.81640625 * -0.359375 + 0.3203125\n"
     ]
    }
   ],
   "source": [
    "from float2bfloat import float2bfloat, bfloat2float\n",
    "\n",
    "x = 16209\n",
    "w = 48824\n",
    "b = 16036\n",
    "rv = mul(x, w)\n",
    "rv2 = add(rv, b)\n",
    "print(bfloat2float(rv2), bfloat2float(rv), '<=', bfloat2float(x), '*',bfloat2float(w), '+', bfloat2float(b))\n",
    "assert(rv2 == 15584)\n",
    "assert(rv == 48790)"
   ]
  },
  {
   "cell_type": "code",
   "execution_count": null,
   "metadata": {},
   "outputs": [],
   "source": []
  }
 ],
 "metadata": {
  "kernelspec": {
   "display_name": "Python 3",
   "language": "python",
   "name": "python3"
  },
  "language_info": {
   "codemirror_mode": {
    "name": "ipython",
    "version": 3
   },
   "file_extension": ".py",
   "mimetype": "text/x-python",
   "name": "python",
   "nbconvert_exporter": "python",
   "pygments_lexer": "ipython3",
   "version": "3.6.7"
  }
 },
 "nbformat": 4,
 "nbformat_minor": 2
}
