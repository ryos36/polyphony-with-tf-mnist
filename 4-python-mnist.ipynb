{
 "cells": [
  {
   "cell_type": "markdown",
   "metadata": {},
   "source": [
    "# Polyphony に関連するライブラリの import"
   ]
  },
  {
   "cell_type": "markdown",
   "metadata": {},
   "source": [
    "import polyphony\n",
    "from polyphony import testbench\n",
    "from polyphony.typing import List, bit16\n",
    "import bfloat"
   ]
  },
  {
   "cell_type": "code",
   "execution_count": 2,
   "metadata": {},
   "outputs": [],
   "source": [
    "from b_bin import B_PARAM\n",
    "from w_bin import W_PARAM\n",
    "from img7 import IMAGE7"
   ]
  },
  {
   "cell_type": "code",
   "execution_count": 3,
   "metadata": {},
   "outputs": [],
   "source": [
    "LEN=28*28\n",
    "\n",
    "#@offload\n",
    "def do_mnist7_mem(a:List[bit16], _mem:List[bit16], lst_len = LEN):\n",
    "    rom_w = W_PARAM\n",
    "    rom_b = B_PARAM\n",
    "    mem = [0] * 10\n",
    "\n",
    "    xi = 0\n",
    "    for i in range(lst_len):\n",
    "        x = a[i]\n",
    "        for j in range(10):\n",
    "            mem[j] = bfloat.mul_add(x, rom_w[xi + j], mem[j])\n",
    "\n",
    "        xi += 10\n",
    "\n",
    "    for j in range(10):\n",
    "        _mem[j] = bfloat.add(mem[j], rom_b[j])"
   ]
  },
  {
   "cell_type": "code",
   "execution_count": 4,
   "metadata": {},
   "outputs": [],
   "source": [
    "def test():\n",
    "    img = IMAGE7\n",
    "    _mem = [0] * 32\n",
    "    do_mnist7_mem(img, _mem, 28*28)\n",
    "    for i in range(10):\n",
    "        from float2bfloat import float2bfloat\n",
    "        from float2bfloat import bfloat2float\n",
    "\n",
    "        print(i, _mem[i], bfloat2float(_mem[i]))\n"
   ]
  },
  {
   "cell_type": "code",
   "execution_count": 5,
   "metadata": {},
   "outputs": [
    {
     "name": "stdout",
     "output_type": "stream",
     "text": [
      "0 48932 -0.640625\n",
      "1 49537 -16.125\n",
      "2 15832 0.10546875\n",
      "3 16640 8.0\n",
      "4 49253 -3.578125\n",
      "5 16405 2.328125\n",
      "6 49507 -14.1875\n",
      "7 16774 16.75\n",
      "8 16300 1.34375\n",
      "9 16585 6.28125\n"
     ]
    }
   ],
   "source": [
    "test()"
   ]
  },
  {
   "cell_type": "code",
   "execution_count": null,
   "metadata": {},
   "outputs": [],
   "source": []
  }
 ],
 "metadata": {
  "kernelspec": {
   "display_name": "Python 3",
   "language": "python",
   "name": "python3"
  },
  "language_info": {
   "codemirror_mode": {
    "name": "ipython",
    "version": 3
   },
   "file_extension": ".py",
   "mimetype": "text/x-python",
   "name": "python",
   "nbconvert_exporter": "python",
   "pygments_lexer": "ipython3",
   "version": "3.6.7"
  }
 },
 "nbformat": 4,
 "nbformat_minor": 2
}
