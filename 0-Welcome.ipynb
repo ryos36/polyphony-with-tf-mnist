{
 "cells": [
  {
   "cell_type": "markdown",
   "metadata": {},
   "source": [
    "# Jupyter/Google Colab を使った TensorFlow の学習\n",
    "\n",
    "ここでは自学自習できるように notebook 形式のプログラムを提供します。\n",
    "1. tf-mnist.ipynb\n",
    "   TensorFlow をつかってごく簡単な MNIST のモデルをつくって学習をさせます。\n",
    "2. bfloat16.ipynb\n",
    "   TensofFlow の学習データを bfloat16 に変換します。\n",
    "3. python-bfloat16.ipynb\n",
    "   bfloat16 の足し算/掛け算のプログラムを作ります\n",
    "4. python-mnist.ipynb\n",
    "   Python で MNIST をつかった予測をしてみます。bfloat16 を使っています。\n",
    "   \n",
    "4. でつかったファイルをコンパイルすると Vivado 等で実際に FPGA で動作させることが出来ます。\n",
    "\n",
    "Copyright (C) Sinby Corp."
   ]
  },
  {
   "cell_type": "markdown",
   "metadata": {},
   "source": [
    "関連情報\n",
    "\n",
    "TensorFlow で MNIST \n",
    "   http://www.sinby.com/seiko-udoku/19-04140.html\n",
    "   \n",
    "TensorFlow と bfloat16\n",
    "   http://www.sinby.com/seiko-udoku/19-04141.html\n",
    "   \n",
    "Python を使って bfloat16\n",
    "   http://www.sinby.com/seiko-udoku/19-04142.html\n",
    "   \n",
    "Polyphony で bfloat16\n",
    "   http://www.sinby.com/seiko-udoku/19-04143.html\n",
    "   \n",
    "Polyphony で MNIST\n",
    "   http://www.sinby.com/seiko-udoku/19-04144.html\n",
    "   \n",
    "Zybo で MNIST\n",
    "   http://www.sinby.com/seiko-udoku/19-04145.html"
   ]
  },
  {
   "cell_type": "code",
   "execution_count": null,
   "metadata": {},
   "outputs": [],
   "source": []
  }
 ],
 "metadata": {
  "kernelspec": {
   "display_name": "Python 3",
   "language": "python",
   "name": "python3"
  },
  "language_info": {
   "codemirror_mode": {
    "name": "ipython",
    "version": 3
   },
   "file_extension": ".py",
   "mimetype": "text/x-python",
   "name": "python",
   "nbconvert_exporter": "python",
   "pygments_lexer": "ipython3",
   "version": "3.6.7"
  }
 },
 "nbformat": 4,
 "nbformat_minor": 2
}
