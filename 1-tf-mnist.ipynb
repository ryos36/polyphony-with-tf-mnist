{
 "cells": [
  {
   "cell_type": "markdown",
   "metadata": {},
   "source": [
    "# TensorFlow で学ぶ簡単な MNIST 手書き文字認識\n",
    "このページのコードを次々と実行することで、TensorFlow の雰囲気がつかめます。\n",
    "なお、現在(2019.4)の TensorFlow は Keras の I/F になっており、このコーディングスタイルは最新でないことに注意してください。また、使用している tensorflow.examples.tutorials.mnist も deprecated のようで、official な mnist を使うようにワーニングが出ます。"
   ]
  },
  {
   "cell_type": "markdown",
   "metadata": {},
   "source": [
    "## まずは MNIST データのダウンロード"
   ]
  },
  {
   "cell_type": "code",
   "execution_count": 1,
   "metadata": {
    "colab": {
     "base_uri": "https://localhost:8080/",
     "height": 541
    },
    "colab_type": "code",
    "executionInfo": {
     "elapsed": 6797,
     "status": "ok",
     "timestamp": 1554215129842,
     "user": {
      "displayName": "鈴木量三朗",
      "photoUrl": "https://lh5.googleusercontent.com/-bopcq128xSs/AAAAAAAAAAI/AAAAAAAAAP4/ogcaPru6tco/s64/photo.jpg",
      "userId": "07319580191150307304"
     },
     "user_tz": -540
    },
    "id": "EWPNEYsVnURq",
    "outputId": "22dca180-408c-4159-a1d9-b5115cac7909"
   },
   "outputs": [
    {
     "name": "stdout",
     "output_type": "stream",
     "text": [
      "WARNING:tensorflow:From <ipython-input-1-5063a5d8335a>:4: read_data_sets (from tensorflow.contrib.learn.python.learn.datasets.mnist) is deprecated and will be removed in a future version.\n",
      "Instructions for updating:\n",
      "Please use alternatives such as official/mnist/dataset.py from tensorflow/models.\n",
      "WARNING:tensorflow:From /home/ryos/Polyphony/venv/tf/lib/python3.6/site-packages/tensorflow/contrib/learn/python/learn/datasets/mnist.py:260: maybe_download (from tensorflow.contrib.learn.python.learn.datasets.base) is deprecated and will be removed in a future version.\n",
      "Instructions for updating:\n",
      "Please write your own downloading logic.\n",
      "WARNING:tensorflow:From /home/ryos/Polyphony/venv/tf/lib/python3.6/site-packages/tensorflow/contrib/learn/python/learn/datasets/mnist.py:262: extract_images (from tensorflow.contrib.learn.python.learn.datasets.mnist) is deprecated and will be removed in a future version.\n",
      "Instructions for updating:\n",
      "Please use tf.data to implement this functionality.\n",
      "Extracting /tmp/data/train-images-idx3-ubyte.gz\n",
      "WARNING:tensorflow:From /home/ryos/Polyphony/venv/tf/lib/python3.6/site-packages/tensorflow/contrib/learn/python/learn/datasets/mnist.py:267: extract_labels (from tensorflow.contrib.learn.python.learn.datasets.mnist) is deprecated and will be removed in a future version.\n",
      "Instructions for updating:\n",
      "Please use tf.data to implement this functionality.\n",
      "Extracting /tmp/data/train-labels-idx1-ubyte.gz\n",
      "WARNING:tensorflow:From /home/ryos/Polyphony/venv/tf/lib/python3.6/site-packages/tensorflow/contrib/learn/python/learn/datasets/mnist.py:110: dense_to_one_hot (from tensorflow.contrib.learn.python.learn.datasets.mnist) is deprecated and will be removed in a future version.\n",
      "Instructions for updating:\n",
      "Please use tf.one_hot on tensors.\n",
      "Extracting /tmp/data/t10k-images-idx3-ubyte.gz\n",
      "Extracting /tmp/data/t10k-labels-idx1-ubyte.gz\n",
      "WARNING:tensorflow:From /home/ryos/Polyphony/venv/tf/lib/python3.6/site-packages/tensorflow/contrib/learn/python/learn/datasets/mnist.py:290: DataSet.__init__ (from tensorflow.contrib.learn.python.learn.datasets.mnist) is deprecated and will be removed in a future version.\n",
      "Instructions for updating:\n",
      "Please use alternatives such as official/mnist/dataset.py from tensorflow/models.\n"
     ]
    }
   ],
   "source": [
    "from tensorflow.examples.tutorials.mnist import input_data\n",
    "import tensorflow as tf\n",
    " \n",
    "mnist = input_data.read_data_sets(\"/tmp/data/\", one_hot=True)"
   ]
  },
  {
   "cell_type": "markdown",
   "metadata": {},
   "source": [
    "## 次に TensorFlow の数式を入力\n",
    "最後に print で y と y の type (クラス名が表示される) を表示させてます。"
   ]
  },
  {
   "cell_type": "code",
   "execution_count": 2,
   "metadata": {
    "colab": {
     "base_uri": "https://localhost:8080/",
     "height": 106
    },
    "colab_type": "code",
    "executionInfo": {
     "elapsed": 2268,
     "status": "ok",
     "timestamp": 1554215135441,
     "user": {
      "displayName": "鈴木量三朗",
      "photoUrl": "https://lh5.googleusercontent.com/-bopcq128xSs/AAAAAAAAAAI/AAAAAAAAAP4/ogcaPru6tco/s64/photo.jpg",
      "userId": "07319580191150307304"
     },
     "user_tz": -540
    },
    "id": "jQuaDDNbHOjE",
    "outputId": "efbc1261-3cf0-41fe-dee5-0ed6300a140b"
   },
   "outputs": [
    {
     "name": "stdout",
     "output_type": "stream",
     "text": [
      "WARNING:tensorflow:From /home/ryos/Polyphony/venv/tf/lib/python3.6/site-packages/tensorflow/python/framework/op_def_library.py:263: colocate_with (from tensorflow.python.framework.ops) is deprecated and will be removed in a future version.\n",
      "Instructions for updating:\n",
      "Colocations handled automatically by placer.\n",
      "Tensor(\"Softmax:0\", shape=(?, 10), dtype=float32) <class 'tensorflow.python.framework.ops.Tensor'>\n"
     ]
    }
   ],
   "source": [
    "x = tf.placeholder(tf.float32, [None, 784])\n",
    "W = tf.Variable(tf.zeros([784, 10]))\n",
    "b = tf.Variable(tf.zeros([10]))\n",
    "y = tf.nn.softmax(tf.matmul(x, W) + b)\n",
    "\n",
    "print(y, type(y))"
   ]
  },
  {
   "cell_type": "markdown",
   "metadata": {},
   "source": [
    "## 学習の為の逆伝搬(Backpropagation) も設定"
   ]
  },
  {
   "cell_type": "code",
   "execution_count": 3,
   "metadata": {
    "colab": {},
    "colab_type": "code",
    "id": "wqZjTTPoV7Ss"
   },
   "outputs": [],
   "source": [
    "y_ = tf.placeholder(tf.float32, [None, 10])\n",
    "cross_entropy = -tf.reduce_sum(y_ * tf.log(y))\n",
    "train_step = tf.train.GradientDescentOptimizer(0.01).minimize(cross_entropy)"
   ]
  },
  {
   "cell_type": "markdown",
   "metadata": {},
   "source": [
    "## Session を作成して学習\n",
    "with で後処理をするようにしましょう。Google Colab とかで with なしで Session を作ると最後はメモリリソースがたりなくなり Kernel を再起動する羽目になります。\n",
    "最後に学習した W と b を eval することで NumPy 形式に変換してます。"
   ]
  },
  {
   "cell_type": "code",
   "execution_count": 4,
   "metadata": {
    "colab": {},
    "colab_type": "code",
    "id": "yEJWpyqAHH0U"
   },
   "outputs": [
    {
     "name": "stdout",
     "output_type": "stream",
     "text": [
      "WARNING:tensorflow:From /home/ryos/Polyphony/venv/tf/lib/python3.6/site-packages/tensorflow/python/util/tf_should_use.py:193: initialize_all_variables (from tensorflow.python.ops.variables) is deprecated and will be removed after 2017-03-02.\n",
      "Instructions for updating:\n",
      "Use `tf.global_variables_initializer` instead.\n",
      "0.9183\n"
     ]
    }
   ],
   "source": [
    "with tf.Session() as sess:\n",
    "  tf.initialize_all_variables().run()\n",
    "  for i in range(10000):\n",
    "    batch_xs, batch_ys = mnist.train.next_batch(100)\n",
    "    train_step.run({x: batch_xs, y_: batch_ys})\n",
    "    \n",
    "  correct_prediction = tf.equal(tf.argmax(y, 1), tf.argmax(y_, 1))\n",
    "  accuracy = tf.reduce_mean(tf.cast(correct_prediction, tf.float32))\n",
    "  print(accuracy.eval({x: mnist.test.images, y_: mnist.test.labels}))\n",
    "  \n",
    "  w0 = W.eval()\n",
    "  b0 = b.eval()"
   ]
  },
  {
   "cell_type": "markdown",
   "metadata": {},
   "source": [
    "## 学習データを再確認\n",
    "type で確認すると numpy.ndarray になっているはずです。"
   ]
  },
  {
   "cell_type": "code",
   "execution_count": 5,
   "metadata": {
    "colab": {
     "base_uri": "https://localhost:8080/",
     "height": 104
    },
    "colab_type": "code",
    "executionInfo": {
     "elapsed": 5992,
     "status": "ok",
     "timestamp": 1554215328336,
     "user": {
      "displayName": "鈴木量三朗",
      "photoUrl": "https://lh5.googleusercontent.com/-bopcq128xSs/AAAAAAAAAAI/AAAAAAAAAP4/ogcaPru6tco/s64/photo.jpg",
      "userId": "07319580191150307304"
     },
     "user_tz": -540
    },
    "id": "ndU7DCWAcU-D",
    "outputId": "f89283d1-8dea-49b7-e92b-045379379633"
   },
   "outputs": [
    {
     "name": "stdout",
     "output_type": "stream",
     "text": [
      "(784, 10)\n",
      "(10,)\n",
      "[-1.1666178   1.2174083   0.24349378 -0.6251349   0.09548604  2.452724\n",
      " -0.5015322   1.4489193  -2.636067   -0.5286423 ]\n",
      "<class 'numpy.ndarray'>\n"
     ]
    }
   ],
   "source": [
    "print(w0.shape)\n",
    "print(b0.shape)\n",
    "print(b0)\n",
    "print(type(b0))"
   ]
  },
  {
   "cell_type": "markdown",
   "metadata": {},
   "source": [
    "## 学習データをテキストに落とす\n"
   ]
  },
  {
   "cell_type": "code",
   "execution_count": 6,
   "metadata": {
    "colab": {},
    "colab_type": "code",
    "id": "LfJQOUoUqknW"
   },
   "outputs": [],
   "source": [
    "with open('w_value.txt', 'w') as f:\n",
    "  for i in range(28*28):\n",
    "    delim = ''\n",
    "    for j in range(10):\n",
    "      f.write(f'{delim}{w0[i][j]}')\n",
    "      delim = ', '\n",
    "    f.write('\\n')"
   ]
  },
  {
   "cell_type": "code",
   "execution_count": 7,
   "metadata": {
    "colab": {},
    "colab_type": "code",
    "id": "OuqMPZk4Z-tv"
   },
   "outputs": [],
   "source": [
    "with open('b_value.txt', 'w') as f:\n",
    "  delim = ''\n",
    "  for i in range(10):\n",
    "    f.write(f'{delim}{b0[i]}')\n",
    "    delim = ', '\n",
    "  f.write('\\n')"
   ]
  },
  {
   "cell_type": "markdown",
   "metadata": {},
   "source": [
    "## ダウンロード(Google Colob の場合)\n",
    "Google Colab なら次の方法でダウンロードできます。ただし Firefox では動作しない模様。"
   ]
  },
  {
   "cell_type": "code",
   "execution_count": null,
   "metadata": {},
   "outputs": [],
   "source": [
    "from google.colab import files\n",
    "files.download('w_value.txt')\n",
    "files.download('b_value.txt')"
   ]
  }
 ],
 "metadata": {
  "colab": {
   "collapsed_sections": [],
   "name": "Untitled0.ipynb",
   "provenance": [],
   "version": "0.3.2"
  },
  "kernelspec": {
   "display_name": "Python 3",
   "language": "python",
   "name": "python3"
  },
  "language_info": {
   "codemirror_mode": {
    "name": "ipython",
    "version": 3
   },
   "file_extension": ".py",
   "mimetype": "text/x-python",
   "name": "python",
   "nbconvert_exporter": "python",
   "pygments_lexer": "ipython3",
   "version": "3.6.7"
  }
 },
 "nbformat": 4,
 "nbformat_minor": 1
}
